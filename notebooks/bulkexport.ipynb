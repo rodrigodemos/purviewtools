{
 "cells": [
  {
   "cell_type": "code",
   "execution_count": null,
   "metadata": {},
   "outputs": [],
   "source": [
    "# RUN ONCE IF NEEDED. MAY NEED TO ADJUST IF MULTIPLE VERSIONS OF PYTHON INSTALLED\n",
    "\n",
    "# !pip install azure-functions\n",
    "# !pip install azure-core\n",
    "# !pip install azure-identity\n",
    "# !pip install azure-purview-catalog\n",
    "# !pip install azure-purview-administration\n",
    "# !pip install pandas"
   ]
  },
  {
   "cell_type": "code",
   "execution_count": null,
   "metadata": {},
   "outputs": [],
   "source": [
    "import os\n",
    "import datetime\n",
    "import pandas as pd\n",
    "\n",
    "from io import BytesIO\n",
    "from azure.identity import DefaultAzureCredential\n",
    "from azure.purview.catalog import PurviewCatalogClient"
   ]
  },
  {
   "cell_type": "code",
   "execution_count": null,
   "metadata": {},
   "outputs": [],
   "source": [
    "def create_filter(asset_type):\n",
    "    filter = {\n",
    "        \"and\": [\n",
    "            {\"objectType\": \"Tables\"},\n",
    "            {\"assetType\": asset_type}\n",
    "        ]}\n",
    "    return filter\n",
    "\n",
    "def create_search_body(keywords, filter):\n",
    "    search_body = {\n",
    "        'keywords': keywords if keywords else None,\n",
    "        'facets': None,\n",
    "        'filter': filter if filter else None,\n",
    "    }\n",
    "    return search_body"
   ]
  },
  {
   "cell_type": "code",
   "execution_count": null,
   "metadata": {},
   "outputs": [],
   "source": [
    "def purview_client(purview_account):\n",
    "    credential = DefaultAzureCredential()\n",
    "    client = PurviewCatalogClient(\n",
    "        endpoint=f'https://{purview_account}.purview.azure.com', \n",
    "        credential=credential,\n",
    "        logging_enable=True)\n",
    "    return client"
   ]
  },
  {
   "cell_type": "code",
   "execution_count": null,
   "metadata": {},
   "outputs": [],
   "source": [
    "def query_to_dataframe(purview_client, keywords, filter):\n",
    "    search_request = create_search_body(keywords, filter)\n",
    "    purview_search = purview_client.discovery.query(search_request=search_request)\n",
    "    search_df = pd.DataFrame.from_dict(purview_search['value'])\n",
    "    return search_df\n",
    "\n",
    "def get_asset(purview_client, asset_id):\n",
    "    asset = purview_client.entity.get_by_guid(asset_id)\n",
    "    return asset\n",
    "\n",
    "def get_term_guid(purview_client, term):\n",
    "    term_guid = purview_client.glossary.get_term_by_name(term)['guid']\n",
    "    return term_guid\n",
    "\n",
    "def related_entities_to_dataframe(asset):\n",
    "    related_entities_df = pd.DataFrame.from_dict(asset['referredEntities'])\n",
    "    return related_entities_df\n"
   ]
  },
  {
   "cell_type": "code",
   "execution_count": null,
   "metadata": {},
   "outputs": [],
   "source": [
    "def export_to_csv(purview_client, search_df, file_path):\n",
    "    output_df = pd.DataFrame(columns=[\n",
    "        'table_guid',\n",
    "        'column_guid',\n",
    "        'qualifiedName',\n",
    "        'assetType',\n",
    "        'schemaName',\n",
    "        'tableName',\n",
    "        'columnName',\n",
    "        'columnDescription'\n",
    "    ])\n",
    "\n",
    "    for iAsset, asset in search_df.iterrows():\n",
    "        pv_asset = get_asset(purview_client, asset['id'])\n",
    "        related_df = pd.DataFrame.from_dict(pv_asset['referredEntities'])\n",
    "\n",
    "        for iEntity, relatedEntity in related_df.items():\n",
    "            if 'column' in relatedEntity['typeName']:\n",
    "                col_df = pd.DataFrame.from_records([{\n",
    "                    'table_guid': asset['id'],\n",
    "                    'column_guid': relatedEntity['guid'],\n",
    "                    'qualifiedName': relatedEntity['attributes']['qualifiedName'],\n",
    "                    'assetType': asset['assetType'][0],\n",
    "                    'schemaName': pv_asset['entity']['relationshipAttributes']['dbSchema']['displayText'] if 'dbSchema' in pv_asset['entity']['relationshipAttributes'] else None,\n",
    "                    'tableName': asset['name'],\n",
    "                    'columnName': relatedEntity['attributes']['name'],\n",
    "                    'columnDescription': relatedEntity['attributes']['userDescription']\n",
    "                }])\n",
    "                output_df = pd.concat([output_df, col_df], ignore_index=True)\n",
    "    \n",
    "    fileTS = datetime.datetime.now().strftime('%Y%m%d_%H%M%S')\n",
    "    output_file  = f'{file_path}\\purview_export_{fileTS}.csv'\n",
    "\n",
    "    #create directory from download_path if it doesn't exist\n",
    "    if not os.path.exists(file_path):\n",
    "        os.makedirs(file_path)\n",
    "\n",
    "    pd.DataFrame.to_csv(output_df, path_or_buf=output_file, index=False)\n",
    "    \n",
    "    return output_file"
   ]
  },
  {
   "cell_type": "code",
   "execution_count": null,
   "metadata": {},
   "outputs": [],
   "source": [
    "purview_account = 'purviewaccountname'\n",
    "keywords = '*'\n",
    "asset_type = 'Azure SQL Database'\n",
    "file_path = 'C:\\\\temp\\\\purviewexport'"
   ]
  },
  {
   "cell_type": "code",
   "execution_count": null,
   "metadata": {},
   "outputs": [],
   "source": [
    "%env AZURE_TENANT_ID 00000000-0000-0000-0000-000000000000\n",
    "%env AZURE_CLIENT_ID 00000000-0000-0000-0000-000000000000\n",
    "%env AZURE_CLIENT_SECRET yourclientsecret"
   ]
  },
  {
   "cell_type": "code",
   "execution_count": null,
   "metadata": {},
   "outputs": [],
   "source": [
    "try:\n",
    "    filter = create_filter(asset_type)\n",
    "    purview_client = purview_client(purview_account)\n",
    "    pv_search_df = query_to_dataframe(purview_client, keywords, filter)\n",
    "    filename = export_to_csv(purview_client, pv_search_df, file_path)\n",
    "    print(f'File exported successfully to {filename}')\n",
    "except Exception as e:\n",
    "    print(e)"
   ]
  }
 ],
 "metadata": {
  "kernelspec": {
   "display_name": "Python 3",
   "language": "python",
   "name": "python3"
  },
  "language_info": {
   "codemirror_mode": {
    "name": "ipython",
    "version": 3
   },
   "file_extension": ".py",
   "mimetype": "text/x-python",
   "name": "python",
   "nbconvert_exporter": "python",
   "pygments_lexer": "ipython3",
   "version": "3.10.10"
  },
  "orig_nbformat": 4
 },
 "nbformat": 4,
 "nbformat_minor": 2
}
