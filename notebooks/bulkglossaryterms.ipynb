{
 "cells": [
  {
   "cell_type": "code",
   "execution_count": null,
   "metadata": {},
   "outputs": [],
   "source": [
    "# RUN ONCE IF NEEDED. MAY NEED TO ADJUST IF MULTIPLE VERSIONS OF PYTHON INSTALLED\n",
    "\n",
    "# !pip install azure-functions\n",
    "# !pip install azure-core\n",
    "# !pip install azure-identity\n",
    "# !pip install azure-purview-catalog\n",
    "# !pip install azure-purview-administration\n",
    "# !pip install pandas"
   ]
  },
  {
   "cell_type": "code",
   "execution_count": 97,
   "metadata": {},
   "outputs": [],
   "source": [
    "import os\n",
    "import json\n",
    "import datetime\n",
    "import pandas as pd\n",
    "\n",
    "from io import BytesIO\n",
    "from azure.identity import DefaultAzureCredential\n",
    "from azure.purview.catalog import PurviewCatalogClient"
   ]
  },
  {
   "cell_type": "code",
   "execution_count": 2,
   "metadata": {},
   "outputs": [],
   "source": [
    "purview_account = 'purviewaccountname'\n",
    "file_path = 'C:\\\\temp\\\\purviewexport\\\\purview_export.csv'"
   ]
  },
  {
   "cell_type": "code",
   "execution_count": 3,
   "metadata": {},
   "outputs": [],
   "source": [
    "def purview_client(purview_account):\n",
    "    credential = DefaultAzureCredential()\n",
    "    client = PurviewCatalogClient(\n",
    "        endpoint=f'https://{purview_account}.purview.azure.com', \n",
    "        credential=credential,\n",
    "        logging_enable=True)\n",
    "    return client"
   ]
  },
  {
   "cell_type": "code",
   "execution_count": 63,
   "metadata": {},
   "outputs": [],
   "source": [
    "def create_filter():\n",
    "    filter = {\n",
    "        \"and\": [\n",
    "            {\"objectType\": \"Glossary terms\"},\n",
    "        ]}\n",
    "    return filter\n",
    "\n",
    "def create_search_body(keywords, filter):\n",
    "    search_body = {\n",
    "        'keywords': keywords if keywords else None,\n",
    "        'facets': None,\n",
    "        'filter': filter if filter else None,\n",
    "    }\n",
    "    return search_body\n",
    "\n",
    "def query_to_dataframe(purview_client, keywords, filter):\n",
    "    search_request = create_search_body(keywords, filter)\n",
    "    purview_search = purview_client.discovery.query(search_request=search_request)\n",
    "    search_df = pd.DataFrame.from_dict(purview_search['value'])\n",
    "    return search_df"
   ]
  },
  {
   "cell_type": "code",
   "execution_count": 4,
   "metadata": {},
   "outputs": [],
   "source": [
    "def load_file_to_df(file_path):\n",
    "    df = pd.read_csv(file_path)\n",
    "    return df"
   ]
  },
  {
   "cell_type": "code",
   "execution_count": 80,
   "metadata": {},
   "outputs": [],
   "source": [
    "def get_glossaryMappings_df(input_df):\n",
    "    glossaryMappings_df = pd.DataFrame(columns=[\n",
    "        'column_guid',\n",
    "        'glossaryTerm',\n",
    "    ])\n",
    "\n",
    "    for index, row in input_df.iterrows():\n",
    "        if not isinstance(row['glossaryTerms'], float):\n",
    "            #split content of row into array and trim whitespace\n",
    "            glossary_terms = [x.strip() for x in row['glossaryTerms'].split(',')]\n",
    "            for term in glossary_terms:\n",
    "                item_df =  pd.DataFrame.from_records([{\n",
    "                    \"column_guid\": row['column_guid'],\n",
    "                    \"glossaryTerm\": term,\n",
    "                }])\n",
    "                glossaryMappings_df = pd.concat([glossaryMappings_df, item_df], ignore_index=True)\n",
    "\n",
    "    glossaryMappings_unique_df = pd.DataFrame(columns=[\n",
    "        'glossaryTerm_guid',\n",
    "        'glossaryTerm',\n",
    "        'column_guids',\n",
    "    ])\n",
    "\n",
    "    glossaryTerms = glossaryMappings_df['glossaryTerm'].unique()\n",
    "    for term in glossaryTerms:\n",
    "        #get all the rows that have this term\n",
    "        term_df = glossaryMappings_df[glossaryMappings_df['glossaryTerm'] == term]\n",
    "        column_guids = term_df['column_guid'].unique()\n",
    "        item_df =  pd.DataFrame.from_records([{\n",
    "            \"glossaryTerm\": term,\n",
    "            \"column_guids\": column_guids,\n",
    "        }])\n",
    "        glossaryMappings_unique_df = pd.concat([glossaryMappings_unique_df, item_df], ignore_index=True)\n",
    "        \n",
    "    return glossaryMappings_unique_df"
   ]
  },
  {
   "cell_type": "code",
   "execution_count": 108,
   "metadata": {},
   "outputs": [],
   "source": [
    "def pv_assignTerms_Entities(purview_client, term_guid, entities):\n",
    "    related_object_ids = [{\"guid\": entity} for entity in entities]\n",
    "    purview_client.glossary.assign_term_to_entities(term_guid, related_object_ids)"
   ]
  },
  {
   "cell_type": "code",
   "execution_count": 74,
   "metadata": {},
   "outputs": [],
   "source": [
    "def getTermGUID(purview_client, term):\n",
    "    pv_term_search_df = query_to_dataframe(purview_client, term, create_filter())\n",
    "    for i, search_item in pv_term_search_df.iterrows():\n",
    "        if search_item['displayText'] == term:\n",
    "            term_guid = search_item['id']\n",
    "    return term_guid"
   ]
  },
  {
   "cell_type": "code",
   "execution_count": null,
   "metadata": {},
   "outputs": [],
   "source": [
    "try:\n",
    "    purview_client = purview_client(purview_account)\n",
    "    pv_updates_df = load_file_to_df(file_path)\n",
    "    glossaryMappings_df = get_glossaryMappings_df(pv_updates_df)\n",
    "    \n",
    "    for index, term in glossaryMappings_df.iterrows():\n",
    "        term_name = term['glossaryTerm']\n",
    "        term_guid = getTermGUID(purview_client, term_name)\n",
    "        entities = term['column_guids']\n",
    "        #if term_guid is valid length\n",
    "        if len(term_guid) == 36:\n",
    "            print(f'Assigning term {term_name} to {len(entities)} entities')\n",
    "            pv_assignTerms_Entities(purview_client, term_guid, entities)\n",
    "            print('Done.')\n",
    "except Exception as e:\n",
    "    print(e)"
   ]
  }
 ],
 "metadata": {
  "kernelspec": {
   "display_name": ".venv",
   "language": "python",
   "name": "python3"
  },
  "language_info": {
   "codemirror_mode": {
    "name": "ipython",
    "version": 3
   },
   "file_extension": ".py",
   "mimetype": "text/x-python",
   "name": "python",
   "nbconvert_exporter": "python",
   "pygments_lexer": "ipython3",
   "version": "3.9.5"
  },
  "orig_nbformat": 4
 },
 "nbformat": 4,
 "nbformat_minor": 2
}
